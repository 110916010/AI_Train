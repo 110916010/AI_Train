{
 "cells": [
  {
   "cell_type": "code",
   "execution_count": 19,
   "id": "1d7d34ca",
   "metadata": {},
   "outputs": [
    {
     "data": {
      "text/plain": [
       "True"
      ]
     },
     "execution_count": 19,
     "metadata": {},
     "output_type": "execute_result"
    }
   ],
   "source": [
    "import numpy as np\n",
    "import cv2\n",
    "from numpy.random import uniform,normal #隨機取樣\n",
    "\n",
    "img = cv2.imread('myBaby.jpg')\n",
    "img = cv2.cvtColor(img,cv2.COLOR_BGR2GRAY) #把圖變成灰階圖\n",
    "\n",
    "probability = 0.2\n",
    "result = img\n",
    "\n",
    "r,c = img.shape[0:2]\n",
    "for x in range(r):\n",
    "    for y in range(c):\n",
    "        value = img[x,y] + normal(0,20)\n",
    "        result[x,y] = np.uint8(np.clip(value,0,255))\n",
    "        \n",
    "cv2.imwrite('gauss_noise_myBaby.jpg',result)"
   ]
  },
  {
   "cell_type": "code",
   "execution_count": null,
   "id": "af3d06ad",
   "metadata": {},
   "outputs": [],
   "source": []
  }
 ],
 "metadata": {
  "kernelspec": {
   "display_name": "Python 3 (ipykernel)",
   "language": "python",
   "name": "python3"
  },
  "language_info": {
   "codemirror_mode": {
    "name": "ipython",
    "version": 3
   },
   "file_extension": ".py",
   "mimetype": "text/x-python",
   "name": "python",
   "nbconvert_exporter": "python",
   "pygments_lexer": "ipython3",
   "version": "3.7.13"
  }
 },
 "nbformat": 4,
 "nbformat_minor": 5
}
