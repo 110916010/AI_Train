{
 "cells": [
  {
   "cell_type": "code",
   "execution_count": 11,
   "id": "0e52404a",
   "metadata": {},
   "outputs": [
    {
     "name": "stdout",
     "output_type": "stream",
     "text": [
      "596 1060\n"
     ]
    },
    {
     "data": {
      "text/plain": [
       "-1"
      ]
     },
     "execution_count": 11,
     "metadata": {},
     "output_type": "execute_result"
    }
   ],
   "source": [
    "import cv2\n",
    "imga = cv2.imread('myBaby.jpg')\n",
    "imgb = cv2.imread('myBabysBaby.jpg')\n",
    "\n",
    "h,w, _= imga.shape\n",
    "print(h,w)\n",
    "imgc = cv2.resize(imgb,(w,h),interpolation=cv2.INTER_AREA)\n",
    "\n",
    "imgd = cv2.addWeighted(imga,0.6,imgc,0.4,0)\n",
    "\n",
    "cv2.imshow('imaga',imga)\n",
    "cv2.imshow('imagb',imgc)\n",
    "cv2.imshow('imagc',imgd)\n",
    "cv2.imwrite('myBabyAndMe.jpg',imgd)\n",
    "cv2.waitKey(0)"
   ]
  },
  {
   "cell_type": "code",
   "execution_count": null,
   "id": "f9dcdcdc",
   "metadata": {},
   "outputs": [],
   "source": []
  }
 ],
 "metadata": {
  "kernelspec": {
   "display_name": "Python 3 (ipykernel)",
   "language": "python",
   "name": "python3"
  },
  "language_info": {
   "codemirror_mode": {
    "name": "ipython",
    "version": 3
   },
   "file_extension": ".py",
   "mimetype": "text/x-python",
   "name": "python",
   "nbconvert_exporter": "python",
   "pygments_lexer": "ipython3",
   "version": "3.7.13"
  }
 },
 "nbformat": 4,
 "nbformat_minor": 5
}
