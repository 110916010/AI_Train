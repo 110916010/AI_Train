{
 "cells": [
  {
   "cell_type": "code",
   "execution_count": null,
   "id": "7cf187ef",
   "metadata": {},
   "outputs": [],
   "source": [
    "import cv2\n",
    "\n",
    "imgs = cv2.imread('myBabysBaby.jpg')\n",
    "\n",
    "imgd = 255 - imgs #亮轉暗、暗轉亮\n",
    "\n",
    "cv2.imshow('source',imgs)\n",
    "cv2.imshow('dest',imgd)\n",
    "cv2.waitKey(0)\n",
    "print(suss)"
   ]
  },
  {
   "cell_type": "code",
   "execution_count": null,
   "id": "351376db",
   "metadata": {},
   "outputs": [],
   "source": []
  },
  {
   "cell_type": "code",
   "execution_count": null,
   "id": "12d1ddad",
   "metadata": {},
   "outputs": [],
   "source": []
  }
 ],
 "metadata": {
  "kernelspec": {
   "display_name": "Python 3 (ipykernel)",
   "language": "python",
   "name": "python3"
  },
  "language_info": {
   "codemirror_mode": {
    "name": "ipython",
    "version": 3
   },
   "file_extension": ".py",
   "mimetype": "text/x-python",
   "name": "python",
   "nbconvert_exporter": "python",
   "pygments_lexer": "ipython3",
   "version": "3.7.13"
  }
 },
 "nbformat": 4,
 "nbformat_minor": 5
}
