{
 "cells": [
  {
   "cell_type": "code",
   "execution_count": 3,
   "id": "58c94cb6",
   "metadata": {},
   "outputs": [
    {
     "data": {
      "text/plain": [
       "-1"
      ]
     },
     "execution_count": 3,
     "metadata": {},
     "output_type": "execute_result"
    }
   ],
   "source": [
    "import cv2\n",
    "import numpy as np\n",
    "\n",
    "imgs = cv2.imread('myBaby.jpg')\n",
    "\n",
    "img1 = np.power(imgs/255,1.5) #把原本來的影像先正規化，再*1.5次方\n",
    "img2 = np.power(imgs/255,6.5)\n",
    "img3 = np.power(imgs/255,0.5)\n",
    "\n",
    "cv2.imshow('source',imgs)\n",
    "cv2.imshow('dest',img1)\n",
    "cv2.imshow('dest2',img2)\n",
    "cv2.imshow('dest3',img3)\n",
    "cv2.waitKey(0)"
   ]
  },
  {
   "cell_type": "code",
   "execution_count": null,
   "id": "e5632258",
   "metadata": {},
   "outputs": [],
   "source": []
  }
 ],
 "metadata": {
  "kernelspec": {
   "display_name": "Python 3 (ipykernel)",
   "language": "python",
   "name": "python3"
  },
  "language_info": {
   "codemirror_mode": {
    "name": "ipython",
    "version": 3
   },
   "file_extension": ".py",
   "mimetype": "text/x-python",
   "name": "python",
   "nbconvert_exporter": "python",
   "pygments_lexer": "ipython3",
   "version": "3.7.13"
  }
 },
 "nbformat": 4,
 "nbformat_minor": 5
}
