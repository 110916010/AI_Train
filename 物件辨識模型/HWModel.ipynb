{
 "cells": [
  {
   "cell_type": "code",
   "execution_count": 2,
   "id": "72147f8b",
   "metadata": {},
   "outputs": [
    {
     "name": "stdout",
     "output_type": "stream",
     "text": [
      "0代表衣服，1代表鞋子，2代表書本\n",
      "預測結果： [1]\n"
     ]
    },
    {
     "data": {
      "image/png": "[encoded data removed]",
      "text/plain": [
       "<Figure size 432x288 with 1 Axes>"
      ]
     },
     "metadata": {
      "needs_background": "light"
     },
     "output_type": "display_data"
    }
   ],
   "source": [
    "from PIL import Image\n",
    "import matplotlib.pyplot as plt\n",
    "import numpy as np\n",
    "from tensorflow.keras.models import load_model\n",
    "\n",
    "img = Image.open('C:/Users/alice/shoes_original/01.jpg')\n",
    "reimg = img.resize((28,28))\n",
    "img1 = np.array(reimg.convert(\"L\"))\n",
    "plt.imshow(img1,cmap=plt.get_cmap('binary'))\n",
    "plt.show\n",
    "\n",
    "img1 = img1.reshape(1,28*28)\n",
    "img1 = img1.astype('float32')/255\n",
    "\n",
    "model = load_model('HW5.h5')\n",
    "x = model.predict_classes(img1)\n",
    "print('0代表衣服，1代表鞋子，2代表書本')\n",
    "print('預測結果：',str(x))"
   ]
  },
  {
   "cell_type": "code",
   "execution_count": null,
   "id": "716371b8",
   "metadata": {},
   "outputs": [],
   "source": []
  }
 ],
 "metadata": {
  "kernelspec": {
   "display_name": "Python 3 (ipykernel)",
   "language": "python",
   "name": "python3"
  },
  "language_info": {
   "codemirror_mode": {
    "name": "ipython",
    "version": 3
   },
   "file_extension": ".py",
   "mimetype": "text/x-python",
   "name": "python",
   "nbconvert_exporter": "python",
   "pygments_lexer": "ipython3",
   "version": "3.7.13"
  }
 },
 "nbformat": 4,
 "nbformat_minor": 5
}
