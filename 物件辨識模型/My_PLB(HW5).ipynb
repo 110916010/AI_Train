{
 "cells": [
  {
   "cell_type": "code",
   "execution_count": 2,
   "id": "e1a590f7",
   "metadata": {},
   "outputs": [
    {
     "name": "stdout",
     "output_type": "stream",
     "text": [
      "(30, 28, 28)\n",
      "Epoch 1/10\n",
      "6/6 - 0s - loss: 1.5912 - accuracy: 0.3704 - val_loss: 0.8873 - val_accuracy: 1.0000\n",
      "Epoch 2/10\n",
      "6/6 - 0s - loss: 1.1121 - accuracy: 0.4074 - val_loss: 0.8263 - val_accuracy: 1.0000\n",
      "Epoch 3/10\n",
      "6/6 - 0s - loss: 0.7950 - accuracy: 0.8889 - val_loss: 1.2217 - val_accuracy: 0.0000e+00\n",
      "Epoch 4/10\n",
      "6/6 - 0s - loss: 0.7172 - accuracy: 0.7407 - val_loss: 1.6787 - val_accuracy: 0.0000e+00\n",
      "Epoch 5/10\n",
      "6/6 - 0s - loss: 0.7239 - accuracy: 0.6296 - val_loss: 0.5392 - val_accuracy: 1.0000\n",
      "Epoch 6/10\n",
      "6/6 - 0s - loss: 0.5668 - accuracy: 0.9630 - val_loss: 0.8488 - val_accuracy: 1.0000\n",
      "Epoch 7/10\n",
      "6/6 - 0s - loss: 0.4531 - accuracy: 0.9259 - val_loss: 0.9568 - val_accuracy: 0.3333\n",
      "Epoch 8/10\n",
      "6/6 - 0s - loss: 0.4061 - accuracy: 0.9259 - val_loss: 0.7682 - val_accuracy: 1.0000\n",
      "Epoch 9/10\n",
      "6/6 - 0s - loss: 0.3384 - accuracy: 0.9630 - val_loss: 0.4803 - val_accuracy: 1.0000\n",
      "Epoch 10/10\n",
      "6/6 - 0s - loss: 0.2985 - accuracy: 1.0000 - val_loss: 0.4979 - val_accuracy: 1.0000\n"
     ]
    }
   ],
   "source": [
    "import os\n",
    "from array import array\n",
    "import numpy as np\n",
    "from PIL import Image\n",
    "from keras.utils import np_utils\n",
    "from tensorflow.keras.models import Sequential\n",
    "from tensorflow.keras.layers import Dense\n",
    "\n",
    "x_train = []\n",
    "y_train = []\n",
    "\n",
    "clothes_train_path = \"C:/Users/alice/clothes_saved/\"\n",
    "#把路徑內的檔案打開後儲存到fileDir的陣列裡\n",
    "clothes_train_fileDir = os.listdir(clothes_train_path)\n",
    "\n",
    "for file in clothes_train_fileDir:\n",
    "    imag = Image.open(clothes_train_path + file) #此時，imag基本上是一個已處裡過的灰階圖檔\n",
    "    data = np.array(imag)\n",
    "    x_train.append(data)\n",
    "    y_train.append(0) #假設0是clothes\n",
    "    \n",
    "shoes_train_path = \"C:/Users/alice/shoes_saved/\"\n",
    "shoes_train_fileDir = os.listdir(shoes_train_path)\n",
    "\n",
    "for file in shoes_train_fileDir:\n",
    "    imag = Image.open(shoes_train_path + file) \n",
    "    data = np.array(imag)\n",
    "    x_train.append(data)\n",
    "    y_train.append(1) #假設1是shoes\n",
    "    \n",
    "books_train_path = \"C:/Users/alice/books_saved/\"\n",
    "books_train_fileDir = os.listdir(books_train_path)\n",
    "\n",
    "for file in books_train_fileDir:\n",
    "    imag = Image.open(books_train_path + file) \n",
    "    data = np.array(imag)\n",
    "    x_train.append(data)\n",
    "    y_train.append(2) #假設2是books\n",
    "    \n",
    "x_train = np.array(x_train)\n",
    "x_train_normalize = x_train.reshape(30,784).astype('float32')\n",
    "y_train_oneHot = np_utils.to_categorical(y_train) \n",
    "x_train_normalize = x_train_normalize/255\n",
    "print(x_train.shape)\n",
    "\n",
    "model = Sequential()\n",
    "#第一層\n",
    "#activation是激活函數，unit是隱藏層，kernael_initializer是權值初始化：normal是常態分佈\n",
    "model.add(Dense(units=256,input_dim=784,kernel_initializer='normal',activation='relu'))\n",
    "#輸出層\n",
    "#unit是輸出層\n",
    "model.add(Dense(units=3,kernel_initializer='normal',activation='softmax'))\n",
    "\n",
    "model.compile(loss='categorical_crossentropy',optimizer='adam',metrics=['accuracy'])\n",
    "model.fit(x=x_train_normalize,y=y_train_oneHot,validation_split=0.1,epochs=10,batch_size=5,verbose=2)\n",
    "\n",
    "model.save('hw5.h5')\n"
   ]
  },
  {
   "cell_type": "code",
   "execution_count": null,
   "id": "fefdc67d",
   "metadata": {},
   "outputs": [],
   "source": []
  }
 ],
 "metadata": {
  "kernelspec": {
   "display_name": "Python 3 (ipykernel)",
   "language": "python",
   "name": "python3"
  },
  "language_info": {
   "codemirror_mode": {
    "name": "ipython",
    "version": 3
   },
   "file_extension": ".py",
   "mimetype": "text/x-python",
   "name": "python",
   "nbconvert_exporter": "python",
   "pygments_lexer": "ipython3",
   "version": "3.7.13"
  }
 },
 "nbformat": 4,
 "nbformat_minor": 5
}
