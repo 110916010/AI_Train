{
 "cells": [
  {
   "cell_type": "code",
   "execution_count": 1,
   "id": "4f2fddbc",
   "metadata": {},
   "outputs": [
    {
     "name": "stdout",
     "output_type": "stream",
     "text": [
      "WARNING:tensorflow:From C:\\Users\\alice\\AppData\\Local\\Temp\\ipykernel_10848\\2169348456.py:16: Sequential.predict_classes (from tensorflow.python.keras.engine.sequential) is deprecated and will be removed after 2021-01-01.\n",
      "Instructions for updating:\n",
      "Please use instead:* `np.argmax(model.predict(x), axis=-1)`,   if your model does multi-class classification   (e.g. if it uses a `softmax` last-layer activation).* `(model.predict(x) > 0.5).astype(\"int32\")`,   if your model does binary classification   (e.g. if it uses a `sigmoid` last-layer activation).\n",
      "預測結果： [0]\n"
     ]
    },
    {
     "data": {
      "image/png": "[encoded data removed]",
      "text/plain": [
       "<Figure size 432x288 with 1 Axes>"
      ]
     },
     "metadata": {
      "needs_background": "light"
     },
     "output_type": "display_data"
    }
   ],
   "source": [
    "from PIL import Image\n",
    "import matplotlib.pyplot as plt\n",
    "import numpy as np\n",
    "from tensorflow.keras.models import load_model\n",
    "\n",
    "img = Image.open('C:/Users/alice/dog_original/11.jpg')\n",
    "reimg = img.resize((28,28))\n",
    "img1 = np.array(reimg.convert(\"L\"))\n",
    "plt.imshow(img1,cmap=plt.get_cmap('binary'))\n",
    "plt.show\n",
    "\n",
    "img1 = img1.reshape(1,28*28)\n",
    "img1 = img1.astype('float32')/255\n",
    "\n",
    "model = load_model('dogcat.h5')\n",
    "x = model.predict_classes(img1)\n",
    "print('預測結果：',str(x))"
   ]
  },
  {
   "cell_type": "code",
   "execution_count": null,
   "id": "400ad621",
   "metadata": {},
   "outputs": [],
   "source": []
  }
 ],
 "metadata": {
  "kernelspec": {
   "display_name": "Python 3 (ipykernel)",
   "language": "python",
   "name": "python3"
  },
  "language_info": {
   "codemirror_mode": {
    "name": "ipython",
    "version": 3
   },
   "file_extension": ".py",
   "mimetype": "text/x-python",
   "name": "python",
   "nbconvert_exporter": "python",
   "pygments_lexer": "ipython3",
   "version": "3.7.13"
  }
 },
 "nbformat": 4,
 "nbformat_minor": 5
}
