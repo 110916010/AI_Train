{
 "cells": [
  {
   "cell_type": "code",
   "execution_count": 2,
   "id": "fb58d998",
   "metadata": {},
   "outputs": [
    {
     "name": "stdout",
     "output_type": "stream",
     "text": [
      "suss\n"
     ]
    }
   ],
   "source": [
    "import os \n",
    "from PIL import Image\n",
    "\n",
    "original_clothes_path = \"C:/Users/alice/clothes_original/\"\n",
    "save_clothes_path = \"C:/Users/alice/clothes_saved/\"\n",
    "originCloDir = os.listdir(original_clothes_path)\n",
    "savedCloDir = os.listdir(save_clothes_path)\n",
    "\n",
    "#file是第一張圖檔，把路徑中的東西讀出來\n",
    "for file in originCloDir:\n",
    "    img = Image.open(original_clothes_path + file)\n",
    "    resizeImg = img.resize((28,28))\n",
    "    grayImg = resizeImg.convert('L')\n",
    "    grayImg.save(save_clothes_path + file)\n",
    "    \n",
    "    \n",
    "original_shoes_path = \"C:/Users/alice/shoes_original/\"\n",
    "save_shoes_path = \"C:/Users/alice/shoes_saved/\"\n",
    "originShoesDir = os.listdir(original_shoes_path)\n",
    "savedShoesDir = os.listdir(save_shoes_path)\n",
    "\n",
    "for file in originShoesDir:\n",
    "    img = Image.open(original_shoes_path + file)\n",
    "    resizeImg = img.resize((28,28))\n",
    "    grayImg = resizeImg.convert('L')\n",
    "    grayImg.save(save_shoes_path + file)\n",
    "    \n",
    "original_books_path = \"C:/Users/alice/books_original/\"\n",
    "save_books_path = \"C:/Users/alice/books_saved/\"\n",
    "originBooksDir = os.listdir(original_books_path)\n",
    "savedBooksDir = os.listdir(save_books_path)\n",
    "\n",
    "for file in originBooksDir:\n",
    "    img = Image.open(original_books_path + file)\n",
    "    resizeImg = img.resize((28,28))\n",
    "    grayImg = resizeImg.convert('L')\n",
    "    grayImg.save(save_books_path + file)\n",
    "\n",
    "print('suss')\n"
   ]
  },
  {
   "cell_type": "code",
   "execution_count": null,
   "id": "418b0924",
   "metadata": {},
   "outputs": [],
   "source": []
  }
 ],
 "metadata": {
  "kernelspec": {
   "display_name": "Python 3 (ipykernel)",
   "language": "python",
   "name": "python3"
  },
  "language_info": {
   "codemirror_mode": {
    "name": "ipython",
    "version": 3
   },
   "file_extension": ".py",
   "mimetype": "text/x-python",
   "name": "python",
   "nbconvert_exporter": "python",
   "pygments_lexer": "ipython3",
   "version": "3.7.13"
  }
 },
 "nbformat": 4,
 "nbformat_minor": 5
}
