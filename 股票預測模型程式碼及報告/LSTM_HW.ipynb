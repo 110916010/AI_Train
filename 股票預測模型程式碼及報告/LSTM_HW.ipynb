{
 "cells": [
  {
   "cell_type": "code",
   "execution_count": null,
   "id": "c819ead7",
   "metadata": {},
   "outputs": [],
   "source": [
    "import pandas as pd\n",
    "from sklearn.preprocessing import MinMaxScaler\n",
    "import numpy as np\n",
    "from tensorflow.keras.models import Sequential\n",
    "from tensorflow.keras.layers import Dense\n",
    "from tensorflow.keras.layers import LSTM\n",
    "from tensorflow.keras.layers import Dropout\n",
    "\n",
    "dataset_train = pd.read_csv('LSTM_HW.csv')\n",
    "train_set = dataset_train.iloc[:,1:2].values #lioc只讀其中一個欄位\n",
    "dataset_train.head() #把讀取放在第一個開始讀\n",
    "sc = MinMaxScaler(feature_range = (0,1)) #讓值只從0到1(正規化)，sc是一個物件\n",
    "training_set_scaled = sc.fit_transform(train_set) #更改本身的性質\n",
    "\n",
    "#把前30天的資料來訓練(30,1)\n",
    "x_train = []\n",
    "y_train = []\n",
    "for i in range(60,2035): #讀出1975筆資料，每一筆資料是60篇\n",
    "    x_train.append(training_set_scaled[i-60:i,0]) #讀取第0列的0到60的資料，i初始值是60，最後一個0是x軸的意思\n",
    "    y_train.append(training_set_scaled[i,0])\n",
    "\n",
    "x_train = np.array(x_train) #1975筆的資料，每一筆都是1*60的陣列\n",
    "#print(x_train[0])\n",
    "y_train = np.array(y_train)\n",
    "#print(x_train.shape[1])\n",
    "#print(x_train.shape[0])\n",
    "x_train = np.reshape(x_train,(1975,60,1)) #一次一筆(60,1)，總共1975筆資料(個陣列)\n",
    "\n",
    "\n",
    "#佈屬LSTM，return_sequential：False代表多對一，Ture代表多對多\n",
    "\n",
    "model = Sequential()\n",
    "model.add(LSTM(units=50,return_sequences=True,input_shape=(60,1)))\n",
    "model.add(Dropout(0.2))\n",
    "model.add(LSTM(units=50,return_sequences=True))\n",
    "model.add(Dropout(0.2))\n",
    "model.add(LSTM(units=50,return_sequences=True))\n",
    "model.add(Dropout(0.2))\n",
    "model.add(LSTM(units=50))\n",
    "model.add(Dropout(0.2))\n",
    "model.add(Dense(units=1))\n",
    "model.summary()"
   ]
  }
 ],
 "metadata": {
  "kernelspec": {
   "display_name": "Python 3 (ipykernel)",
   "language": "python",
   "name": "python3"
  },
  "language_info": {
   "codemirror_mode": {
    "name": "ipython",
    "version": 3
   },
   "file_extension": ".py",
   "mimetype": "text/x-python",
   "name": "python",
   "nbconvert_exporter": "python",
   "pygments_lexer": "ipython3",
   "version": "3.7.13"
  }
 },
 "nbformat": 4,
 "nbformat_minor": 5
}
